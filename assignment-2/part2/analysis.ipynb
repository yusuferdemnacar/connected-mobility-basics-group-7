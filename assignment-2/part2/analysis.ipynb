{
 "cells": [
  {
   "cell_type": "code",
   "execution_count": 1,
   "id": "b19a667c",
   "metadata": {},
   "outputs": [],
   "source": [
    "from scapy.all import rdpcap, PPI_DOT11COMMON, Packet, PacketList\n",
    "from scapy.layers.dot11 import Dot11\n",
    "import pyshark\n",
    "import matplotlib.pyplot as plt\n",
    "\n",
    "network_file = \"network.pcap\""
   ]
  },
  {
   "cell_type": "code",
   "execution_count": 2,
   "id": "6c1c9e54",
   "metadata": {},
   "outputs": [
    {
     "name": "stdout",
     "output_type": "stream",
     "text": [
      "Number of packets: 11850\n"
     ]
    }
   ],
   "source": [
    "def processing_file(file_path: str):  \n",
    "        packets:PacketList = rdpcap(file_path)\n",
    "        return packets\n",
    "\n",
    "processed_packets = processing_file(network_file)\n",
    "print(f\"Number of packets: {len(processed_packets)}\")"
   ]
  },
  {
   "cell_type": "code",
   "execution_count": 3,
   "id": "92365559",
   "metadata": {},
   "outputs": [],
   "source": [
    "import nest_asyncio\n",
    "nest_asyncio.apply()\n",
    "pyshark_capture = pyshark.FileCapture(network_file, keep_packets=True)"
   ]
  },
  {
   "cell_type": "markdown",
   "id": "6fa76633",
   "metadata": {},
   "source": [
    "# Analysis of layer for protocolls"
   ]
  },
  {
   "cell_type": "markdown",
   "id": "052162c7",
   "metadata": {},
   "source": [
    "## Layer 4"
   ]
  },
  {
   "cell_type": "code",
   "execution_count": 4,
   "id": "43826aed",
   "metadata": {},
   "outputs": [],
   "source": [
    "def sort_packets_by_protocol(packets: PacketList):\n",
    "    sorted_packets = {\n",
    "        'TCP': [],\n",
    "        'UDP': [],\n",
    "        'ICMP': [],\n",
    "        'ARP': [],\n",
    "        'Other': []\n",
    "    }\n",
    "    \n",
    "    for packet in packets:\n",
    "        if packet.haslayer('TCP'):\n",
    "            sorted_packets['TCP'].append(packet)\n",
    "        elif packet.haslayer('UDP'):\n",
    "            sorted_packets['UDP'].append(packet)\n",
    "        elif packet.haslayer('ICMP'):\n",
    "            sorted_packets['ICMP'].append(packet)\n",
    "        elif packet.haslayer('ARP'):\n",
    "            sorted_packets['ARP'].append(packet)\n",
    "        \n",
    "        else:\n",
    "            sorted_packets['Other'].append(packet)\n",
    "    \n",
    "    return sorted_packets"
   ]
  },
  {
   "cell_type": "code",
   "execution_count": 5,
   "id": "568cd0c7",
   "metadata": {},
   "outputs": [
    {
     "name": "stdout",
     "output_type": "stream",
     "text": [
      "Numper of packets by layer 3 and 4 protocol:\n",
      "TCP: 10677 packets\n",
      "UDP: 1169 packets\n",
      "ICMP: 0 packets\n",
      "ARP: 4 packets\n",
      "Other: 0 packets\n"
     ]
    }
   ],
   "source": [
    "sorteded_packets = sort_packets_by_protocol(processed_packets)\n",
    "print(\"Numper of packets by layer 3 and 4 protocol:\")\n",
    "for protocol, packets in sorteded_packets.items():\n",
    "    print(f\"{protocol}: {len(packets)} packets\")"
   ]
  },
  {
   "cell_type": "markdown",
   "id": "8d843329",
   "metadata": {},
   "source": [
    "## Layer 7 protocol:"
   ]
  },
  {
   "cell_type": "code",
   "execution_count": 6,
   "id": "3923e268",
   "metadata": {},
   "outputs": [],
   "source": [
    "\n",
    "# protocols = set()\n",
    "# for i, pkt in enumerate(processed_packets):\n",
    "#     if i == 0:\n",
    "#         continue\n",
    "#     try:\n",
    "#         protocol.__add__(pyshark_capture[i].highest_layer)\n",
    "#     except:\n",
    "#         app_proto = \"Unknown\"\n",
    "#     print(pyshark_capture[i])\n",
    "#     #print(f\"Packet {i+1}: {app_proto}, Scapy summary: {pkt.summary()}\")\n",
    "# print(protocols)"
   ]
  },
  {
   "cell_type": "code",
   "execution_count": 7,
   "id": "4b1eb170",
   "metadata": {},
   "outputs": [],
   "source": [
    "def calculate_distribution_by_protocol(protocols: dict):\n",
    "    protocol_counts = {protocol: len(packets) for protocol, packets in protocols.items()}\n",
    "    total_packets = sum(protocol_counts.values())\n",
    "    \n",
    "    distribution = {protocol: count / total_packets * 100 for protocol, count in protocol_counts.items()}\n",
    "    \n",
    "    return distribution\n",
    "\n",
    "def get_protocol_counts(protocols_dict):\n",
    "    protocol_counts = {protocol: len(packets) for protocol, packets in protocols_dict.items()}\n",
    "    return protocol_counts\n"
   ]
  },
  {
   "cell_type": "code",
   "execution_count": 8,
   "id": "87c806c7",
   "metadata": {},
   "outputs": [
    {
     "name": "stdout",
     "output_type": "stream",
     "text": [
      "Number of packets by Layer 7 protocol:\n",
      "SSH: 247 packets\n",
      "TCP: 6731 packets\n",
      "TLS: 3667 packets\n",
      "MDNS: 76 packets\n",
      "DNS: 203 packets\n",
      "HTTP: 9 packets\n",
      "DATA-TEXT-LINES: 8 packets\n",
      "ARP: 4 packets\n",
      "QUIC: 882 packets\n",
      "SSDP: 8 packets\n",
      "DATA: 15 packets\n"
     ]
    }
   ],
   "source": [
    "def get_layer7_protocol_packets(capture):\n",
    "    layer7_packets = {}\n",
    "    i = 0\n",
    "    for packet in capture:\n",
    "        i+=1\n",
    "        highest_layer = packet.highest_layer\n",
    "        \n",
    "        if highest_layer not in layer7_packets:\n",
    "            layer7_packets[highest_layer] = []\n",
    "        layer7_packets[highest_layer].append(i)\n",
    "        \n",
    "    return layer7_packets\n",
    "\n",
    "layer7_packets = get_layer7_protocol_packets(pyshark_capture)\n",
    "print(\"Number of packets by Layer 7 protocol:\")\n",
    "for protocol, packets in layer7_packets.items():\n",
    "    print(f\"{protocol}: {len(packets)} packets\")\n",
    "    "
   ]
  },
  {
   "cell_type": "markdown",
   "id": "fd53b1cb",
   "metadata": {},
   "source": [
    "Create distribution per protocol:"
   ]
  },
  {
   "cell_type": "code",
   "execution_count": 9,
   "id": "9df2f6fb",
   "metadata": {},
   "outputs": [
    {
     "name": "stdout",
     "output_type": "stream",
     "text": [
      "SSH: 2.08%\n",
      "TCP: 56.80%\n",
      "TLS: 30.95%\n",
      "MDNS: 0.64%\n",
      "DNS: 1.71%\n",
      "HTTP: 0.08%\n",
      "DATA-TEXT-LINES: 0.07%\n",
      "ARP: 0.03%\n",
      "QUIC: 7.44%\n",
      "SSDP: 0.07%\n",
      "DATA: 0.13%\n"
     ]
    }
   ],
   "source": [
    "distribution_layer_7 = calculate_distribution_by_protocol(layer7_packets)\n",
    "for protocol, percentage in distribution_layer_7.items():\n",
    "    print(f\"{protocol}: {percentage:.2f}%\")"
   ]
  },
  {
   "cell_type": "code",
   "execution_count": 10,
   "id": "b11c1720",
   "metadata": {},
   "outputs": [
    {
     "data": {
      "image/png": "[encoded data removed]",
      "text/plain": [
       "<Figure size 1000x600 with 1 Axes>"
      ]
     },
     "metadata": {},
     "output_type": "display_data"
    },
    {
     "data": {
      "image/png": "[encoded data removed]",
      "text/plain": [
       "<Figure size 1000x600 with 1 Axes>"
      ]
     },
     "metadata": {},
     "output_type": "display_data"
    }
   ],
   "source": [
    "def protocol_distribution_bar_chart(distribution: dict, title: str = 'Distribution of Layer 7 Protocols'):\n",
    "    protocols = list(distribution.keys())\n",
    "    # Use absolute values for the y-axis\n",
    "    values = list(distribution.values())\n",
    "    \n",
    "    plt.figure(figsize=(10, 6))\n",
    "    plt.bar(protocols, values)\n",
    "    plt.xlabel('Protocol')\n",
    "    plt.ylabel('Percentage of Packets (%)')\n",
    "    plt.title(title)\n",
    "    plt.xticks(rotation=45)\n",
    "    plt.grid(axis='y', linestyle='--', alpha=0.7)\n",
    "    plt.tight_layout()\n",
    "    plt.show()\n",
    "\n",
    "def protocol_distribution_bar_chart_absolute(distribution: dict, title: str = 'Distribution of Layer 7 Protocols'):\n",
    "    protocols = list(distribution.keys())\n",
    "    values = list(distribution.values())\n",
    "    \n",
    "    plt.figure(figsize=(10, 6))\n",
    "    plt.bar(protocols, values)\n",
    "    plt.xlabel('Protocol')\n",
    "    plt.ylabel('Number of Packets (Absolute Value)')\n",
    "    plt.title(title)\n",
    "    plt.xticks(rotation=45)\n",
    "    plt.grid(axis='y', linestyle='--', alpha=0.7)\n",
    "    plt.tight_layout()\n",
    "    plt.show()\n",
    "\n",
    "protocol_distribution_bar_chart(distribution_layer_7, title='Distribution of Layer 7 Protocols')\n",
    "protocol_distribution_bar_chart_absolute(get_protocol_counts(layer7_packets), title='Distribution of Layer 7 Protocols')"
   ]
  },
  {
   "cell_type": "code",
   "execution_count": 11,
   "id": "799b4a89",
   "metadata": {},
   "outputs": [
    {
     "data": {
      "image/png": "[encoded data removed]",
      "text/plain": [
       "<Figure size 1000x800 with 1 Axes>"
      ]
     },
     "metadata": {},
     "output_type": "display_data"
    }
   ],
   "source": [
    "def protocol_distribution_py_chart(distribution: dict):\n",
    "    protocols = list(distribution.keys())\n",
    "    percentages = list(distribution.values())\n",
    "    \n",
    "    plt.figure(figsize=(10, 8))\n",
    "    wedges, texts, autotexts = plt.pie(\n",
    "        percentages, labels=protocols, autopct='%1.1f%%', startangle=140, \n",
    "        textprops={'fontsize': 10},\n",
    "        pctdistance=0.85  # Move percentage labels closer to the center\n",
    "    )\n",
    "    # Increase distance of labels from the center to reduce overlap\n",
    "    for text in texts:\n",
    "        text.set_fontsize(10)\n",
    "        text.set_position((1.1 * text.get_position()[0], 1.1 * text.get_position()[1]))\n",
    "    plt.title('Distribution of Layer 7 Protocols')\n",
    "    plt.axis('equal')\n",
    "    plt.tight_layout()\n",
    "    plt.legend(wedges, protocols, title=\"Protocols\", bbox_to_anchor=(1, 0.5), loc=\"center left\")\n",
    "    plt.show()\n",
    "\n",
    "protocol_distribution_py_chart(get_protocol_counts(layer7_packets))"
   ]
  },
  {
   "cell_type": "code",
   "execution_count": 15,
   "id": "0727a52a",
   "metadata": {},
   "outputs": [
    {
     "data": {
      "application/vnd.plotly.v1+json": {
       "config": {
        "plotlyServerURL": "https://plot.ly"
       },
       "data": [
        {
         "labels": [
          "SSH",
          "TCP",
          "TLS",
          "MDNS",
          "DNS",
          "HTTP",
          "DATA-TEXT-LINES",
          "ARP",
          "QUIC",
          "SSDP",
          "DATA"
         ],
         "type": "pie",
         "values": [
          247,
          6731,
          3667,
          76,
          203,
          9,
          8,
          4,
          882,
          8,
          15
         ]
        }
       ],
       "layout": {
        "template": {
         "data": {
          "bar": [
           {
            "error_x": {
             "color": "#2a3f5f"
            },
            "error_y": {
             "color": "#2a3f5f"
            },
            "marker": {
             "line": {
              "color": "#E5ECF6",
              "width": 0.5
             },
             "pattern": {
              "fillmode": "overlay",
              "size": 10,
              "solidity": 0.2
             }
            },
            "type": "bar"
           }
          ],
          "barpolar": [
           {
            "marker": {
             "line": {
              "color": "#E5ECF6",
              "width": 0.5
             },
             "pattern": {
              "fillmode": "overlay",
              "size": 10,
              "solidity": 0.2
             }
            },
            "type": "barpolar"
           }
          ],
          "carpet": [
           {
            "aaxis": {
             "endlinecolor": "#2a3f5f",
             "gridcolor": "white",
             "linecolor": "white",
             "minorgridcolor": "white",
             "startlinecolor": "#2a3f5f"
            },
            "baxis": {
             "endlinecolor": "#2a3f5f",
             "gridcolor": "white",
             "linecolor": "white",
             "minorgridcolor": "white",
             "startlinecolor": "#2a3f5f"
            },
            "type": "carpet"
           }
          ],
          "choropleth": [
           {
            "colorbar": {
             "outlinewidth": 0,
             "ticks": ""
            },
            "type": "choropleth"
           }
          ],
          "contour": [
           {
            "colorbar": {
             "outlinewidth": 0,
             "ticks": ""
            },
            "colorscale": [
             [
              0,
              "#0d0887"
             ],
             [
              0.1111111111111111,
              "#46039f"
             ],
             [
              0.2222222222222222,
              "#7201a8"
             ],
             [
              0.3333333333333333,
              "#9c179e"
             ],
             [
              0.4444444444444444,
              "#bd3786"
             ],
             [
              0.5555555555555556,
              "#d8576b"
             ],
             [
              0.6666666666666666,
              "#ed7953"
             ],
             [
              0.7777777777777778,
              "#fb9f3a"
             ],
             [
              0.8888888888888888,
              "#fdca26"
             ],
             [
              1,
              "#f0f921"
             ]
            ],
            "type": "contour"
           }
          ],
          "contourcarpet": [
           {
            "colorbar": {
             "outlinewidth": 0,
             "ticks": ""
            },
            "type": "contourcarpet"
           }
          ],
          "heatmap": [
           {
            "colorbar": {
             "outlinewidth": 0,
             "ticks": ""
            },
            "colorscale": [
             [
              0,
              "#0d0887"
             ],
             [
              0.1111111111111111,
              "#46039f"
             ],
             [
              0.2222222222222222,
              "#7201a8"
             ],
             [
              0.3333333333333333,
              "#9c179e"
             ],
             [
              0.4444444444444444,
              "#bd3786"
             ],
             [
              0.5555555555555556,
              "#d8576b"
             ],
             [
              0.6666666666666666,
              "#ed7953"
             ],
             [
              0.7777777777777778,
              "#fb9f3a"
             ],
             [
              0.8888888888888888,
              "#fdca26"
             ],
             [
              1,
              "#f0f921"
             ]
            ],
            "type": "heatmap"
           }
          ],
          "histogram": [
           {
            "marker": {
             "pattern": {
              "fillmode": "overlay",
              "size": 10,
              "solidity": 0.2
             }
            },
            "type": "histogram"
           }
          ],
          "histogram2d": [
           {
            "colorbar": {
             "outlinewidth": 0,
             "ticks": ""
            },
            "colorscale": [
             [
              0,
              "#0d0887"
             ],
             [
              0.1111111111111111,
              "#46039f"
             ],
             [
              0.2222222222222222,
              "#7201a8"
             ],
             [
              0.3333333333333333,
              "#9c179e"
             ],
             [
              0.4444444444444444,
              "#bd3786"
             ],
             [
              0.5555555555555556,
              "#d8576b"
             ],
             [
              0.6666666666666666,
              "#ed7953"
             ],
             [
              0.7777777777777778,
              "#fb9f3a"
             ],
             [
              0.8888888888888888,
              "#fdca26"
             ],
             [
              1,
              "#f0f921"
             ]
            ],
            "type": "histogram2d"
           }
          ],
          "histogram2dcontour": [
           {
            "colorbar": {
             "outlinewidth": 0,
             "ticks": ""
            },
            "colorscale": [
             [
              0,
              "#0d0887"
             ],
             [
              0.1111111111111111,
              "#46039f"
             ],
             [
              0.2222222222222222,
              "#7201a8"
             ],
             [
              0.3333333333333333,
              "#9c179e"
             ],
             [
              0.4444444444444444,
              "#bd3786"
             ],
             [
              0.5555555555555556,
              "#d8576b"
             ],
             [
              0.6666666666666666,
              "#ed7953"
             ],
             [
              0.7777777777777778,
              "#fb9f3a"
             ],
             [
              0.8888888888888888,
              "#fdca26"
             ],
             [
              1,
              "#f0f921"
             ]
            ],
            "type": "histogram2dcontour"
           }
          ],
          "mesh3d": [
           {
            "colorbar": {
             "outlinewidth": 0,
             "ticks": ""
            },
            "type": "mesh3d"
           }
          ],
          "parcoords": [
           {
            "line": {
             "colorbar": {
              "outlinewidth": 0,
              "ticks": ""
             }
            },
            "type": "parcoords"
           }
          ],
          "pie": [
           {
            "automargin": true,
            "type": "pie"
           }
          ],
          "scatter": [
           {
            "fillpattern": {
             "fillmode": "overlay",
             "size": 10,
             "solidity": 0.2
            },
            "type": "scatter"
           }
          ],
          "scatter3d": [
           {
            "line": {
             "colorbar": {
              "outlinewidth": 0,
              "ticks": ""
             }
            },
            "marker": {
             "colorbar": {
              "outlinewidth": 0,
              "ticks": ""
             }
            },
            "type": "scatter3d"
           }
          ],
          "scattercarpet": [
           {
            "marker": {
             "colorbar": {
              "outlinewidth": 0,
              "ticks": ""
             }
            },
            "type": "scattercarpet"
           }
          ],
          "scattergeo": [
           {
            "marker": {
             "colorbar": {
              "outlinewidth": 0,
              "ticks": ""
             }
            },
            "type": "scattergeo"
           }
          ],
          "scattergl": [
           {
            "marker": {
             "colorbar": {
              "outlinewidth": 0,
              "ticks": ""
             }
            },
            "type": "scattergl"
           }
          ],
          "scattermap": [
           {
            "marker": {
             "colorbar": {
              "outlinewidth": 0,
              "ticks": ""
             }
            },
            "type": "scattermap"
           }
          ],
          "scattermapbox": [
           {
            "marker": {
             "colorbar": {
              "outlinewidth": 0,
              "ticks": ""
             }
            },
            "type": "scattermapbox"
           }
          ],
          "scatterpolar": [
           {
            "marker": {
             "colorbar": {
              "outlinewidth": 0,
              "ticks": ""
             }
            },
            "type": "scatterpolar"
           }
          ],
          "scatterpolargl": [
           {
            "marker": {
             "colorbar": {
              "outlinewidth": 0,
              "ticks": ""
             }
            },
            "type": "scatterpolargl"
           }
          ],
          "scatterternary": [
           {
            "marker": {
             "colorbar": {
              "outlinewidth": 0,
              "ticks": ""
             }
            },
            "type": "scatterternary"
           }
          ],
          "surface": [
           {
            "colorbar": {
             "outlinewidth": 0,
             "ticks": ""
            },
            "colorscale": [
             [
              0,
              "#0d0887"
             ],
             [
              0.1111111111111111,
              "#46039f"
             ],
             [
              0.2222222222222222,
              "#7201a8"
             ],
             [
              0.3333333333333333,
              "#9c179e"
             ],
             [
              0.4444444444444444,
              "#bd3786"
             ],
             [
              0.5555555555555556,
              "#d8576b"
             ],
             [
              0.6666666666666666,
              "#ed7953"
             ],
             [
              0.7777777777777778,
              "#fb9f3a"
             ],
             [
              0.8888888888888888,
              "#fdca26"
             ],
             [
              1,
              "#f0f921"
             ]
            ],
            "type": "surface"
           }
          ],
          "table": [
           {
            "cells": {
             "fill": {
              "color": "#EBF0F8"
             },
             "line": {
              "color": "white"
             }
            },
            "header": {
             "fill": {
              "color": "#C8D4E3"
             },
             "line": {
              "color": "white"
             }
            },
            "type": "table"
           }
          ]
         },
         "layout": {
          "annotationdefaults": {
           "arrowcolor": "#2a3f5f",
           "arrowhead": 0,
           "arrowwidth": 1
          },
          "autotypenumbers": "strict",
          "coloraxis": {
           "colorbar": {
            "outlinewidth": 0,
            "ticks": ""
           }
          },
          "colorscale": {
           "diverging": [
            [
             0,
             "#8e0152"
            ],
            [
             0.1,
             "#c51b7d"
            ],
            [
             0.2,
             "#de77ae"
            ],
            [
             0.3,
             "#f1b6da"
            ],
            [
             0.4,
             "#fde0ef"
            ],
            [
             0.5,
             "#f7f7f7"
            ],
            [
             0.6,
             "#e6f5d0"
            ],
            [
             0.7,
             "#b8e186"
            ],
            [
             0.8,
             "#7fbc41"
            ],
            [
             0.9,
             "#4d9221"
            ],
            [
             1,
             "#276419"
            ]
           ],
           "sequential": [
            [
             0,
             "#0d0887"
            ],
            [
             0.1111111111111111,
             "#46039f"
            ],
            [
             0.2222222222222222,
             "#7201a8"
            ],
            [
             0.3333333333333333,
             "#9c179e"
            ],
            [
             0.4444444444444444,
             "#bd3786"
            ],
            [
             0.5555555555555556,
             "#d8576b"
            ],
            [
             0.6666666666666666,
             "#ed7953"
            ],
            [
             0.7777777777777778,
             "#fb9f3a"
            ],
            [
             0.8888888888888888,
             "#fdca26"
            ],
            [
             1,
             "#f0f921"
            ]
           ],
           "sequentialminus": [
            [
             0,
             "#0d0887"
            ],
            [
             0.1111111111111111,
             "#46039f"
            ],
            [
             0.2222222222222222,
             "#7201a8"
            ],
            [
             0.3333333333333333,
             "#9c179e"
            ],
            [
             0.4444444444444444,
             "#bd3786"
            ],
            [
             0.5555555555555556,
             "#d8576b"
            ],
            [
             0.6666666666666666,
             "#ed7953"
            ],
            [
             0.7777777777777778,
             "#fb9f3a"
            ],
            [
             0.8888888888888888,
             "#fdca26"
            ],
            [
             1,
             "#f0f921"
            ]
           ]
          },
          "colorway": [
           "#636efa",
           "#EF553B",
           "#00cc96",
           "#ab63fa",
           "#FFA15A",
           "#19d3f3",
           "#FF6692",
           "#B6E880",
           "#FF97FF",
           "#FECB52"
          ],
          "font": {
           "color": "#2a3f5f"
          },
          "geo": {
           "bgcolor": "white",
           "lakecolor": "white",
           "landcolor": "#E5ECF6",
           "showlakes": true,
           "showland": true,
           "subunitcolor": "white"
          },
          "hoverlabel": {
           "align": "left"
          },
          "hovermode": "closest",
          "mapbox": {
           "style": "light"
          },
          "paper_bgcolor": "white",
          "plot_bgcolor": "#E5ECF6",
          "polar": {
           "angularaxis": {
            "gridcolor": "white",
            "linecolor": "white",
            "ticks": ""
           },
           "bgcolor": "#E5ECF6",
           "radialaxis": {
            "gridcolor": "white",
            "linecolor": "white",
            "ticks": ""
           }
          },
          "scene": {
           "xaxis": {
            "backgroundcolor": "#E5ECF6",
            "gridcolor": "white",
            "gridwidth": 2,
            "linecolor": "white",
            "showbackground": true,
            "ticks": "",
            "zerolinecolor": "white"
           },
           "yaxis": {
            "backgroundcolor": "#E5ECF6",
            "gridcolor": "white",
            "gridwidth": 2,
            "linecolor": "white",
            "showbackground": true,
            "ticks": "",
            "zerolinecolor": "white"
           },
           "zaxis": {
            "backgroundcolor": "#E5ECF6",
            "gridcolor": "white",
            "gridwidth": 2,
            "linecolor": "white",
            "showbackground": true,
            "ticks": "",
            "zerolinecolor": "white"
           }
          },
          "shapedefaults": {
           "line": {
            "color": "#2a3f5f"
           }
          },
          "ternary": {
           "aaxis": {
            "gridcolor": "white",
            "linecolor": "white",
            "ticks": ""
           },
           "baxis": {
            "gridcolor": "white",
            "linecolor": "white",
            "ticks": ""
           },
           "bgcolor": "#E5ECF6",
           "caxis": {
            "gridcolor": "white",
            "linecolor": "white",
            "ticks": ""
           }
          },
          "title": {
           "x": 0.05
          },
          "xaxis": {
           "automargin": true,
           "gridcolor": "white",
           "linecolor": "white",
           "ticks": "",
           "title": {
            "standoff": 15
           },
           "zerolinecolor": "white",
           "zerolinewidth": 2
          },
          "yaxis": {
           "automargin": true,
           "gridcolor": "white",
           "linecolor": "white",
           "ticks": "",
           "title": {
            "standoff": 15
           },
           "zerolinecolor": "white",
           "zerolinewidth": 2
          }
         }
        },
        "title": {
         "text": "Distribution of Layer 7 Protocols"
        }
       }
      }
     },
     "metadata": {},
     "output_type": "display_data"
    }
   ],
   "source": [
    "import plotly.graph_objects as go\n",
    "\n",
    "def plotly_pie_chart(data: dict, title: str = 'Distribution of Layer 7 Protocols'):\n",
    "    \n",
    "    fig = go.Figure(\n",
    "        data=[\n",
    "            go.Pie(\n",
    "                labels=list(data.keys()),\n",
    "                values=list(data.values())\n",
    "            )\n",
    "        ]\n",
    "    )\n",
    "    \n",
    "    fig.update_layout(title_text=title)\n",
    "    fig.show()\n",
    "plotly_pie_chart(get_protocol_counts(layer7_packets))"
   ]
  },
  {
   "cell_type": "code",
   "execution_count": 18,
   "id": "14372b4e",
   "metadata": {},
   "outputs": [
    {
     "name": "stdout",
     "output_type": "stream",
     "text": [
      "Percentage of encrypted packets: 40.47%\n",
      "Total encrypted packets: 4796\n"
     ]
    }
   ],
   "source": [
    "def calculate_encryption_percentage(data:dict):\n",
    "    total_packets = sum(data.values())\n",
    "    encrypted_packets = data.get(\"QUIC\",0) + data.get(\"TLS\",0) + data.get(\"SSL\",0) + data.get(\"HTTPS\", 0) + data.get(\"SSH\",0)\n",
    "    \n",
    "    if total_packets == 0:\n",
    "        return 0.0\n",
    "    \n",
    "    encryption_percentage = (encrypted_packets / total_packets) * 100\n",
    "    return encrypted_packets, encryption_percentage\n",
    "\n",
    "total_encrypted, encryption_percentage = calculate_encryption_percentage(get_protocol_counts(layer7_packets))\n",
    "print(f\"Percentage of encrypted packets: {encryption_percentage:.2f}%\")\n",
    "print(f\"Total encrypted packets: {total_encrypted}\")"
   ]
  },
  {
   "cell_type": "code",
   "execution_count": 16,
   "id": "682dd799",
   "metadata": {},
   "outputs": [
    {
     "name": "stdout",
     "output_type": "stream",
     "text": [
      "Encrypted packets distribution by protocol:\n",
      "SSH: 0 encrypted packets out of 247 total packets (0.00%)\n",
      "TCP: 0 encrypted packets out of 6731 total packets (0.00%)\n",
      "TLS: 0 encrypted packets out of 3667 total packets (0.00%)\n",
      "MDNS: 0 encrypted packets out of 76 total packets (0.00%)\n",
      "DNS: 0 encrypted packets out of 203 total packets (0.00%)\n",
      "HTTP: 0 encrypted packets out of 9 total packets (0.00%)\n",
      "DATA-TEXT-LINES: 0 encrypted packets out of 8 total packets (0.00%)\n",
      "ARP: 0 encrypted packets out of 4 total packets (0.00%)\n",
      "QUIC: 0 encrypted packets out of 882 total packets (0.00%)\n",
      "SSDP: 0 encrypted packets out of 8 total packets (0.00%)\n",
      "DATA: 0 encrypted packets out of 15 total packets (0.00%)\n"
     ]
    }
   ],
   "source": [
    "def calculate_encrypted_packets_after_protocol(capture, protocol: str):\n",
    "    encrypted_packets = 0\n",
    "    total_packets = 0\n",
    "    \n",
    "    for packet in capture:\n",
    "        if packet.highest_layer == protocol:\n",
    "            total_packets += 1\n",
    "            if 'encrypted' in packet:\n",
    "                encrypted_packets += 1\n",
    "    \n",
    "    if total_packets == 0:\n",
    "        return 0.0\n",
    "    \n",
    "    return (encrypted_packets / total_packets) * 100\n",
    "\n",
    "def calculate_encrypted_packets_by_protocol(capture):\n",
    "    encrypted_distribution = {}\n",
    "    \n",
    "    for packet in capture:\n",
    "        protocol = packet.highest_layer\n",
    "        if protocol not in encrypted_distribution:\n",
    "            encrypted_distribution[protocol] = {\n",
    "                'encrypted': 0,\n",
    "                'total': 0\n",
    "            }\n",
    "        \n",
    "        encrypted_distribution[protocol]['total'] += 1\n",
    "        if 'encrypted' in packet:\n",
    "            encrypted_distribution[protocol]['encrypted'] += 1\n",
    "    \n",
    "    for protocol, counts in encrypted_distribution.items():\n",
    "        if counts['total'] > 0:\n",
    "            counts['percentage'] = (counts['encrypted'] / counts['total']) * 100\n",
    "        else:\n",
    "            counts['percentage'] = 0.0\n",
    "    \n",
    "    return encrypted_distribution\n",
    "encrypted_distribution = calculate_encrypted_packets_by_protocol(pyshark_capture)\n",
    "print(\"Encrypted packets distribution by protocol:\")\n",
    "for protocol, counts in encrypted_distribution.items():\n",
    "    print(f\"{protocol}: {counts['encrypted']} encrypted packets out of {counts['total']} total packets ({counts['percentage']:.2f}%)\")"
   ]
  },
  {
   "cell_type": "markdown",
   "id": "f7faeb67",
   "metadata": {},
   "source": [
    "Analysing Arp-Requests"
   ]
  },
  {
   "cell_type": "code",
   "execution_count": null,
   "id": "56a343f4",
   "metadata": {},
   "outputs": [],
   "source": []
  },
  {
   "cell_type": "markdown",
   "id": "d8822471",
   "metadata": {},
   "source": [
    "Analys"
   ]
  },
  {
   "cell_type": "code",
   "execution_count": null,
   "id": "6082a5e3",
   "metadata": {},
   "outputs": [],
   "source": [
    "def packets_per_host(processed_packets:PacketList):\n"
   ]
  },
  {
   "cell_type": "code",
   "execution_count": null,
   "id": "b5093264",
   "metadata": {},
   "outputs": [],
   "source": [
    "def chart_packets_over_time():\n",
    "    "
   ]
  }
 ],
 "metadata": {
  "kernelspec": {
   "display_name": ".venv",
   "language": "python",
   "name": "python3"
  },
  "language_info": {
   "codemirror_mode": {
    "name": "ipython",
    "version": 3
   },
   "file_extension": ".py",
   "mimetype": "text/x-python",
   "name": "python",
   "nbconvert_exporter": "python",
   "pygments_lexer": "ipython3",
   "version": "3.13.5"
  }
 },
 "nbformat": 4,
 "nbformat_minor": 5
}
